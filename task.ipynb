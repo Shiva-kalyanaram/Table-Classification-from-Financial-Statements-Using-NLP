{
 "cells": [
  {
   "cell_type": "code",
   "execution_count": 4,
   "metadata": {},
   "outputs": [],
   "source": [
    "pd.set_option('display.max_rows', None)"
   ]
  },
  {
   "cell_type": "code",
   "execution_count": 3,
   "metadata": {},
   "outputs": [],
   "source": [
    "import os\n",
    "from bs4 import BeautifulSoup\n",
    "import pandas as pd\n",
    "import matplotlib.pyplot as plt\n",
    "import seaborn as sns\n",
    "import nltk\n",
    "from sklearn.feature_extraction.text import TfidfVectorizer\n",
    "from sklearn.model_selection import train_test_split\n",
    "from sklearn.ensemble import GradientBoostingClassifier\n",
    "from sklearn.metrics import accuracy_score\n",
    "import re\n",
    "from nltk.tokenize import word_tokenize\n",
    "from nltk.stem import WordNetLemmatizer\n",
    "from sklearn.feature_extraction.text import TfidfVectorizer\n",
    "from sklearn.preprocessing import LabelEncoder\n",
    "from imblearn.over_sampling import SMOTE\n",
    "from sklearn.model_selection import train_test_split\n",
    "from sklearn.svm import SVC\n",
    "from sklearn.model_selection import GridSearchCV\n",
    "from sklearn.metrics import accuracy_score\n",
    "import pickle"
   ]
  },
  {
   "cell_type": "markdown",
   "metadata": {},
   "source": [
    "Step_1: Extracting the data from given HTML files using OS and BeautifulSoup"
   ]
  },
  {
   "cell_type": "code",
   "execution_count": null,
   "metadata": {},
   "outputs": [],
   "source": [
    "import os  # Import the os module for interacting with the operating system\n",
    "from bs4 import BeautifulSoup  # Import BeautifulSoup for parsing HTML\n",
    "import pandas as pd  \n",
    "\n",
    "def extract_tables_from_html(folder_path):\n",
    "    tables = []\n",
    "    for root, _, files in os.walk(folder_path):# Iterate over files and directories in the given folder\n",
    "        for file in files:\n",
    "            if file.endswith('.html'):\n",
    "                file_path = os.path.join(root, file)\n",
    "                with open(file_path, 'r', encoding='utf-8') as f:\n",
    "                    soup = BeautifulSoup(f, 'lxml')# Parse the HTML content using BeautifulSoup\n",
    "                    for table in soup.find_all('table'):# Find all HTML tables in the content\n",
    "                        df = pd.read_html(str(table))[0]\n",
    "                        tables.append((df, root.split(os.sep)[-1]))  # (DataFrame, Category)\n",
    "    return tables\n",
    "\n",
    "folder_path = r'C:\\Users\\siva_\\.vscode\\task\\data'\n",
    "tables = extract_tables_from_html(folder_path)"
   ]
  },
  {
   "cell_type": "markdown",
   "metadata": {},
   "source": [
    "Step_2: Convert the extracted data into Dataframe for manipulation and pre-process"
   ]
  },
  {
   "cell_type": "code",
   "execution_count": 134,
   "metadata": {},
   "outputs": [],
   "source": [
    "\n",
    "import re\n",
    "\n",
    "def preprocess_tables(tables):\n",
    "    data = []\n",
    "    labels = []\n",
    "    for df, label in tables:\n",
    "        # Flatten table into a single string\n",
    "        table_str = ' '.join(df.astype(str).apply(' '.join, axis=1))\n",
    "        # table_str = re.sub('[a-zA-Z\\s]', ' ', table_str).lower()\n",
    "        data.append(table_str)\n",
    "        labels.append(label)\n",
    "    return data, labels\n",
    "\n",
    "data, labels = preprocess_tables(tables)"
   ]
  },
  {
   "cell_type": "code",
   "execution_count": 135,
   "metadata": {},
   "outputs": [],
   "source": [
    "df = pd.DataFrame({\n",
    "    'table_data' : data,\n",
    "    'label' : labels\n",
    "})"
   ]
  },
  {
   "cell_type": "code",
   "execution_count": 236,
   "metadata": {},
   "outputs": [
    {
     "data": {
      "text/plain": [
       "<Axes: xlabel='label'>"
      ]
     },
     "execution_count": 236,
     "metadata": {},
     "output_type": "execute_result"
    },
    {
     "data": {
      "image/png": "[encoded data removed]",
      "text/plain": [
       "<Figure size 640x480 with 1 Axes>"
      ]
     },
     "metadata": {},
     "output_type": "display_data"
    }
   ],
   "source": [
    "#checking the data imbalance on classes:\n",
    "\n",
    "df['label'].value_counts()\n",
    "df['label'].value_counts().plot(kind='bar') # it clearly shows that the data is imbalanced and Others class is major class while comparing to others."
   ]
  },
  {
   "cell_type": "markdown",
   "metadata": {},
   "source": [
    "Step_3: Text pre processing:"
   ]
  },
  {
   "cell_type": "code",
   "execution_count": null,
   "metadata": {},
   "outputs": [],
   "source": [
    "df1 = df.copy()#make copy of dataframe"
   ]
  },
  {
   "cell_type": "code",
   "execution_count": null,
   "metadata": {},
   "outputs": [],
   "source": [
    "#remove nan and multiple spaces from table data and converting it as lowercase:\n",
    "#Using regular expressions to remove Nan, multiple spaces, and non-alphabetic characters\n",
    "\n",
    "for i in range(len(df1['table_data'])):\n",
    "    text = df1['table_data'][i]\n",
    "    # Remove 'nan'\n",
    "    text = re.sub(r'\\bnan\\b', '', text)\n",
    "    # Remove non-alphabetic characters\n",
    "    text = re.sub('[^a-zA-Z\\s]', ' ', text).lower()\n",
    "    # Replace multiple spaces with a single space, keeping necessary spaces\n",
    "    text = re.sub(r'\\s+', ' ', text.strip())\n",
    "    df1['table_data'][i] = text"
   ]
  },
  {
   "cell_type": "markdown",
   "metadata": {},
   "source": [
    "Text_Pre-processing using NLTK(tokenization & Lemmatization)"
   ]
  },
  {
   "cell_type": "code",
   "execution_count": null,
   "metadata": {},
   "outputs": [],
   "source": [
    "pip install nltk"
   ]
  },
  {
   "cell_type": "code",
   "execution_count": null,
   "metadata": {},
   "outputs": [],
   "source": [
    "import nltk\n",
    "nltk.download('wordnet')# for lemmatization process"
   ]
  },
  {
   "cell_type": "code",
   "execution_count": null,
   "metadata": {},
   "outputs": [],
   "source": [
    "from nltk.tokenize import word_tokenize\n",
    "from nltk.stem import WordNetLemmatizer\n",
    "\n",
    "\n",
    "# tokens = word_tokenize(df1['table_data'][0])\n",
    "tokens = [word_tokenize(df1['table_data'][i])  for i in range(len(df1['table_data']))]\n",
    "\n",
    "lemmatizer = WordNetLemmatizer()\n",
    "lemmatized_tokens = []\n",
    "for text in df1['table_data']:\n",
    "    tokens = word_tokenize(text)  # Tokenize the text\n",
    "    lemmatized_text = [lemmatizer.lemmatize(token) for token in tokens]  # Lemmatize each token\n",
    "    lemmatized_tokens.append(lemmatized_text)  # Append the lemmatized tokens to the list\n",
    "\n",
    "# Join the lemmatized tokens back into strings\n",
    "lemmatized_texts = [' '.join(tokens) for tokens in lemmatized_tokens]\n",
    "df1['lematized_texts'] = lemmatized_texts"
   ]
  },
  {
   "cell_type": "markdown",
   "metadata": {},
   "source": [
    "Step_4: Converting the corpus into vectors using TF-IDF vectorizer and train a model:"
   ]
  },
  {
   "cell_type": "code",
   "execution_count": 209,
   "metadata": {},
   "outputs": [
    {
     "name": "stdout",
     "output_type": "stream",
     "text": [
      " Logistic Regression Accuracy: 0.900990099009901\n"
     ]
    }
   ],
   "source": [
    "from sklearn.feature_extraction.text import TfidfVectorizer\n",
    "from sklearn.model_selection import train_test_split\n",
    "from sklearn.linear_model import LogisticRegression\n",
    "from sklearn.metrics import accuracy_score\n",
    "\n",
    "# TF-IDF Vectorization\n",
    "tfidf_vectorizer = TfidfVectorizer()\n",
    "X_tfidf = tfidf_vectorizer.fit_transform(df1['lematized_texts'])\n",
    "\n",
    "# Splitting the data into training and testing sets\n",
    "X_train, X_test, y_train, y_test = train_test_split(X_tfidf, df1['label'], test_size=0.2, random_state=42)\n",
    "\n",
    "# Training the model (Logistic Regression example)\n",
    "model = LogisticRegression()\n",
    "model.fit(X_train, y_train)\n",
    "\n",
    "# Predicting on the test set\n",
    "y_pred = model.predict(X_test)\n",
    "\n",
    "# Evaluating the model\n",
    "accuracy = accuracy_score(y_test, y_pred)\n",
    "print(\" Logistic Regression Accuracy:\", accuracy)"
   ]
  },
  {
   "cell_type": "code",
   "execution_count": 210,
   "metadata": {},
   "outputs": [
    {
     "name": "stdout",
     "output_type": "stream",
     "text": [
      "RandomForestClassifier Accuracy: 0.9287128712871288\n"
     ]
    }
   ],
   "source": [
    "from sklearn.ensemble import RandomForestClassifier\n",
    "model = RandomForestClassifier()\n",
    "model.fit(X_train, y_train)\n",
    "y_pred = model.predict(X_test)\n",
    "accuracy = accuracy_score(y_test, y_pred)\n",
    "print(\"RandomForestClassifier Accuracy:\", accuracy)"
   ]
  },
  {
   "cell_type": "code",
   "execution_count": 211,
   "metadata": {},
   "outputs": [
    {
     "name": "stdout",
     "output_type": "stream",
     "text": [
      "SVC Accuracy: 0.9346534653465347\n"
     ]
    }
   ],
   "source": [
    "from sklearn.svm import SVC\n",
    "model = SVC()\n",
    "model.fit(X_train, y_train)\n",
    "y_pred = model.predict(X_test)\n",
    "accuracy = accuracy_score(y_test, y_pred)\n",
    "print(\"SVC Accuracy:\", accuracy)"
   ]
  },
  {
   "cell_type": "code",
   "execution_count": 212,
   "metadata": {},
   "outputs": [
    {
     "name": "stdout",
     "output_type": "stream",
     "text": [
      "GradientBoosting Accuracy: 0.9247524752475248\n"
     ]
    }
   ],
   "source": [
    "from sklearn.ensemble import GradientBoostingClassifier\n",
    "model_gb = GradientBoostingClassifier()\n",
    "model_gb.fit(X_train, y_train)\n",
    "y_pred = model_gb.predict(X_test)\n",
    "accuracy = accuracy_score(y_test, y_pred)\n",
    "print(\"GradientBoosting Accuracy:\", accuracy)"
   ]
  },
  {
   "cell_type": "markdown",
   "metadata": {},
   "source": [
    "Choosing SVC(Support vector Classifier) and do Hyperparameter tuning like GridSearchCV to improve model's ability and accuracy:"
   ]
  },
  {
   "cell_type": "code",
   "execution_count": 208,
   "metadata": {},
   "outputs": [
    {
     "name": "stdout",
     "output_type": "stream",
     "text": [
      "Best hyperparameters: {'C': 10, 'class_weight': None, 'gamma': 1, 'kernel': 'rbf'}\n",
      "Test set accuracy: 0.9683168316831683\n"
     ]
    }
   ],
   "source": [
    "from sklearn.feature_extraction.text import TfidfVectorizer\n",
    "from sklearn.preprocessing import LabelEncoder\n",
    "from imblearn.over_sampling import SMOTE\n",
    "from sklearn.model_selection import train_test_split\n",
    "from sklearn.svm import SVC\n",
    "from sklearn.model_selection import GridSearchCV\n",
    "from sklearn.metrics import accuracy_score\n",
    "import pickle\n",
    "# TF-IDF Vectorization\n",
    "tv = TfidfVectorizer(max_features=2500, ngram_range=(1, 2))\n",
    "X = tv.fit_transform(df1['lematized_texts']).toarray()\n",
    "\n",
    "# Label Encoding\n",
    "label_encoder = LabelEncoder()\n",
    "y_encoded = label_encoder.fit_transform(df1['label'])\n",
    "\n",
    "# Splitting the data into training and testing sets\n",
    "X_train, X_test, y_train, y_test = train_test_split(X, y_encoded, test_size=0.2, random_state=0)\n",
    "\n",
    "# Apply SMOTE for oversampling\n",
    "smote = SMOTE(random_state=0)\n",
    "X_resampled, y_resampled = smote.fit_resample(X_train, y_train)\n",
    "\n",
    "# Train the SVM classifier\n",
    "param_grid = {\n",
    "    'C': [0.1, 1, 10],\n",
    "    'kernel': ['linear', 'rbf'],\n",
    "    'gamma': [0.1, 1, 10],\n",
    "    'class_weight': [None, 'balanced']\n",
    "}\n",
    "\n",
    "# Create the SVM model\n",
    "svm_model = SVC(random_state=0)\n",
    "\n",
    "# Perform grid search cross-validation\n",
    "grid_search = GridSearchCV(estimator=svm_model, param_grid=param_grid, cv=3, scoring='accuracy')\n",
    "grid_search.fit(X_resampled, y_resampled)\n",
    "\n",
    "# Get the best hyperparameters\n",
    "best_params = grid_search.best_params_\n",
    "print(\"Best hyperparameters:\", best_params)\n",
    "\n",
    "# Train the SVM model with the best hyperparameters\n",
    "best_svm_model = SVC(**best_params, random_state=0)\n",
    "best_svm_model.fit(X_resampled, y_resampled)\n",
    "\n",
    "# Predict on the test set\n",
    "y_pred = best_svm_model.predict(X_test)\n",
    "\n",
    "# Calculate accuracy\n",
    "accuracy = accuracy_score(y_test, y_pred)\n",
    "print(\"Test set accuracy:\", accuracy)\n",
    "\n",
    "# Save the best model\n",
    "with open('best_svm_model.pkl', 'wb') as f:\n",
    "    pickle.dump(best_svm_model, f)"
   ]
  },
  {
   "cell_type": "code",
   "execution_count": 213,
   "metadata": {},
   "outputs": [],
   "source": [
    "with open('tfidf_vectorizer.pkl', 'wb') as f:#saving the vectorizer model\n",
    "    pickle.dump(tv, f)"
   ]
  },
  {
   "cell_type": "code",
   "execution_count": 216,
   "metadata": {},
   "outputs": [
    {
     "name": "stdout",
     "output_type": "stream",
     "text": [
      "Predicted Class: Balance Sheets\n"
     ]
    }
   ],
   "source": [
    "with open('tfidf_vectorizer.pkl', 'rb') as f:\n",
    "    tv_loaded = pickle.load(f)\n",
    "\n",
    "with open('best_svm_model.pkl', 'rb') as f:\n",
    "    svm_model_loaded = pickle.load(f)\n",
    "\n",
    "# Test sentence\n",
    "test_sentence = '''Other non-current assets'''\n",
    "\n",
    "# Preprocess the test sentence (lemmatize, vectorize, etc.)\n",
    "cleaned_text = re.sub('[^a-zA-Z]', ' ', test_sentence).lower()\n",
    "tokens = word_tokenize(cleaned_text)\n",
    "lemmatizer = WordNetLemmatizer()\n",
    "lemmatized_tokens = [lemmatizer.lemmatize(token) for token in tokens]\n",
    "lemmatized_text = ' '.join(lemmatized_tokens)\n",
    "X_test_sentence = tv_loaded.transform([lemmatized_text]).toarray()\n",
    "\n",
    "# Predict using the loaded SVM model\n",
    "predicted_class = svm_model_loaded.predict(X_test_sentence)\n",
    "\n",
    "# Decode the predicted label\n",
    "predicted_label = label_encoder.inverse_transform(predicted_class)[0]\n",
    "\n",
    "print(\"Predicted Class:\", predicted_label)"
   ]
  },
  {
   "cell_type": "markdown",
   "metadata": {},
   "source": [
    "Using Word2Vec to capture more semantic Meaning in document:"
   ]
  },
  {
   "cell_type": "markdown",
   "metadata": {},
   "source": [
    "word2vec"
   ]
  },
  {
   "cell_type": "code",
   "execution_count": null,
   "metadata": {},
   "outputs": [],
   "source": [
    "pip install gensim\n"
   ]
  },
  {
   "cell_type": "code",
   "execution_count": 217,
   "metadata": {},
   "outputs": [
    {
     "name": "stdout",
     "output_type": "stream",
     "text": [
      "Test set accuracy: 0.8752475247524752\n"
     ]
    }
   ],
   "source": [
    "from sklearn.model_selection import train_test_split\n",
    "from sklearn.svm import SVC\n",
    "from sklearn.metrics import accuracy_score\n",
    "from imblearn.over_sampling import SMOTE\n",
    "import re\n",
    "from nltk.tokenize import word_tokenize\n",
    "from nltk.stem import WordNetLemmatizer\n",
    "from gensim.models import Word2Vec\n",
    "import numpy as np\n",
    "\n",
    "# Train Word2Vec model\n",
    "word2vec_model = Word2Vec(sentences=[word_tokenize(text) for text in df1['lematized_texts']], vector_size=100, window=5, min_count=1, workers=4)\n",
    "\n",
    "# Generate document vectors\n",
    "def get_document_vector(text):\n",
    "    tokens = word_tokenize(text)\n",
    "    document_vector = np.zeros((word2vec_model.vector_size,))\n",
    "    num_words = 0\n",
    "    for word in tokens:\n",
    "        if word in word2vec_model.wv:\n",
    "            document_vector += word2vec_model.wv[word]\n",
    "            num_words += 1\n",
    "    if num_words > 0:\n",
    "        document_vector /= num_words\n",
    "    return document_vector\n",
    "\n",
    "X = np.array([get_document_vector(text) for text in df1['lematized_texts']])\n",
    "y = df1['label']\n",
    "\n",
    "# Splitting the data into training and testing sets\n",
    "X_train, X_test, y_train, y_test = train_test_split(X, y, test_size=0.2, random_state=42)\n",
    "\n",
    "# Apply SMOTE for oversampling\n",
    "smote = SMOTE(random_state=42)\n",
    "X_resampled, y_resampled = smote.fit_resample(X_train, y_train)\n",
    "\n",
    "# Train the SVM classifier\n",
    "svm_model = SVC()\n",
    "svm_model.fit(X_resampled, y_resampled)\n",
    "\n",
    "# Predict on the test set\n",
    "y_pred = svm_model.predict(X_test)\n",
    "\n",
    "# Calculate accuracy\n",
    "accuracy = accuracy_score(y_test, y_pred)\n",
    "print(\"Test set accuracy:\", accuracy)\n",
    "\n"
   ]
  },
  {
   "cell_type": "code",
   "execution_count": 218,
   "metadata": {},
   "outputs": [],
   "source": [
    "with open('word2vec_model.pkl', 'wb') as f:\n",
    "    pickle.dump(word2vec_model, f)\n",
    "\n",
    "with open('svm_model.pkl', 'wb') as f:\n",
    "    pickle.dump(svm_model, f)"
   ]
  },
  {
   "cell_type": "markdown",
   "metadata": {},
   "source": [
    "test the Word2Vec model:"
   ]
  },
  {
   "cell_type": "code",
   "execution_count": 225,
   "metadata": {},
   "outputs": [
    {
     "name": "stdout",
     "output_type": "stream",
     "text": [
      "Predicted Class: ['Others']\n"
     ]
    }
   ],
   "source": [
    "import pickle\n",
    "import numpy as np\n",
    "from nltk.tokenize import word_tokenize\n",
    "from gensim.models import Word2Vec\n",
    "\n",
    "# Load the saved Word2Vec model\n",
    "with open('word2vec_model.pkl', 'rb') as f:\n",
    "    word2vec_model = pickle.load(f)\n",
    "\n",
    "# Load the saved classification model\n",
    "with open('svm_model.pkl', 'rb') as f:\n",
    "    svm_model = pickle.load(f)\n",
    "\n",
    "# Preprocess the test sentence\n",
    "test_sentence = \"Deferred revenue\"\n",
    "cleaned_txt = re.sub('[^a-zA-Z]', ' ', test_sentence).lower()\n",
    "tokens = word_tokenize(cleaned_txt)\n",
    "\n",
    "# Generate document vector for the test sentence\n",
    "def get_document_vector(tokens):\n",
    "    document_vector = np.zeros((word2vec_model.vector_size,))\n",
    "    num_words = 0\n",
    "    for word in tokens:\n",
    "        if word in word2vec_model.wv:\n",
    "            document_vector += word2vec_model.wv[word]\n",
    "            num_words += 1\n",
    "    if num_words > 0:\n",
    "        document_vector /= num_words\n",
    "    return document_vector\n",
    "\n",
    "test_sentence_vector = get_document_vector(tokens)\n",
    "\n",
    "# Predict the class of the test sentence\n",
    "predicted_class = svm_model.predict([test_sentence_vector])\n",
    "\n",
    "print(\"Predicted Class:\", predicted_class)\n"
   ]
  },
  {
   "cell_type": "markdown",
   "metadata": {},
   "source": [
    "Checking the same data with Spacy:"
   ]
  },
  {
   "cell_type": "code",
   "execution_count": 226,
   "metadata": {},
   "outputs": [
    {
     "name": "stdout",
     "output_type": "stream",
     "text": [
      "Note: you may need to restart the kernel to use updated packages.\n"
     ]
    },
    {
     "name": "stderr",
     "output_type": "stream",
     "text": [
      "ERROR: unknown command \"instal\" - maybe you meant \"install\"\n",
      "\n"
     ]
    }
   ],
   "source": [
    "pip instal spacy"
   ]
  },
  {
   "cell_type": "code",
   "execution_count": 228,
   "metadata": {},
   "outputs": [],
   "source": [
    "import spacy\n",
    "nlp = spacy.load(\"en_core_web_md\") #English pipeline optimized for CPU. Components: tok2vec, tagger, parser, senter, ner, attribute_ruler, lemmatizer."
   ]
  },
  {
   "cell_type": "code",
   "execution_count": 229,
   "metadata": {},
   "outputs": [
    {
     "name": "stdout",
     "output_type": "stream",
     "text": [
      "Test set accuracy: 0.8752475247524752\n"
     ]
    }
   ],
   "source": [
    "# Function to generate document vectors using spaCy\n",
    "def get_document_vector_spacy(text):\n",
    "    doc = nlp(text)\n",
    "    return doc.vector\n",
    "\n",
    "# Generate document vectors\n",
    "X = np.array([get_document_vector_spacy(text) for text in df1['lematized_texts']])\n",
    "y = df1['label']\n",
    "\n",
    "# Splitting the data into training and testing sets\n",
    "X_train, X_test, y_train, y_test = train_test_split(X, y, test_size=0.2, random_state=42)\n",
    "\n",
    "# Apply SMOTE for oversampling\n",
    "smote = SMOTE(random_state=42)\n",
    "X_resampled, y_resampled = smote.fit_resample(X_train, y_train)\n",
    "\n",
    "# Train the SVM classifier\n",
    "svm_model = SVC()\n",
    "svm_model.fit(X_resampled, y_resampled)\n",
    "\n",
    "# Predict on the test set\n",
    "y_pred = svm_model.predict(X_test)\n",
    "\n",
    "# Calculate accuracy\n",
    "accuracy = accuracy_score(y_test, y_pred)\n",
    "print(\"Test set accuracy:\", accuracy)"
   ]
  },
  {
   "cell_type": "code",
   "execution_count": 230,
   "metadata": {},
   "outputs": [],
   "source": [
    "with open('svm_model_spacy.pkl', 'wb') as f:\n",
    "    pickle.dump(svm_model, f)"
   ]
  },
  {
   "cell_type": "markdown",
   "metadata": {},
   "source": [
    "Testing the model with the data:"
   ]
  },
  {
   "cell_type": "code",
   "execution_count": 233,
   "metadata": {},
   "outputs": [
    {
     "name": "stdout",
     "output_type": "stream",
     "text": [
      "Predicted class: Cash Flow\n"
     ]
    }
   ],
   "source": [
    "# Load the trained SVM model\n",
    "with open('svm_model_spacy.pkl', 'rb') as f:\n",
    "    loaded_svm_model = pickle.load(f)\n",
    "\n",
    "# Function to preprocess and vectorize the test sentence using spaCy\n",
    "def preprocess_and_vectorize_spacy(text):\n",
    "    doc = nlp(text)\n",
    "    return doc.vector.reshape(1, -1)  # Reshape to match the model input format\n",
    "\n",
    "# Test sentence\n",
    "test_sentence = \"Cash and cash equivalents\"\n",
    "\n",
    "# Preprocess and vectorize the test sentence\n",
    "test_vector = preprocess_and_vectorize_spacy(test_sentence)\n",
    "\n",
    "# Predict the class of the test sentence\n",
    "predicted_class = loaded_svm_model.predict(test_vector)\n",
    "print(\"Predicted class:\", predicted_class[0])"
   ]
  }
 ],
 "metadata": {
  "kernelspec": {
   "display_name": "Python 3",
   "language": "python",
   "name": "python3"
  },
  "language_info": {
   "codemirror_mode": {
    "name": "ipython",
    "version": 3
   },
   "file_extension": ".py",
   "mimetype": "text/x-python",
   "name": "python",
   "nbconvert_exporter": "python",
   "pygments_lexer": "ipython3",
   "version": "3.11.5"
  }
 },
 "nbformat": 4,
 "nbformat_minor": 2
}
